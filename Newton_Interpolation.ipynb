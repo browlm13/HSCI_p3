{
 "cells": [
  {
   "cell_type": "markdown",
   "metadata": {},
   "source": [
    "# Project 3 - Interpolation and interpolating polynomials\n",
    "## Part 1 - Newton Interpolation\n",
    "\n",
    "Laurence M. Brown\n",
    "HSCI - 3316"
   ]
  },
  {
   "cell_type": "code",
   "execution_count": 1,
   "metadata": {
    "collapsed": false
   },
   "outputs": [
    {
     "name": "stdout",
     "output_type": "stream",
     "text": [
      "Populating the interactive namespace from numpy and matplotlib\n"
     ]
    }
   ],
   "source": [
    "%pylab inline"
   ]
  },
  {
   "cell_type": "code",
   "execution_count": 2,
   "metadata": {
    "collapsed": false
   },
   "outputs": [
    {
     "ename": "SyntaxError",
     "evalue": "invalid syntax (<ipython-input-2-d9a8fcede47a>, line 13)",
     "output_type": "error",
     "traceback": [
      "\u001b[0;36m  File \u001b[0;32m\"<ipython-input-2-d9a8fcede47a>\"\u001b[0;36m, line \u001b[0;32m13\u001b[0m\n\u001b[0;31m    CXX = g++\u001b[0m\n\u001b[0m             ^\u001b[0m\n\u001b[0;31mSyntaxError\u001b[0m\u001b[0;31m:\u001b[0m invalid syntax\n"
     ]
    }
   ],
   "source": [
    "# %load Makefile\n",
    "# %load Makefile\n",
    "#############################################################\n",
    "######\n",
    "# Makefile for project 3\n",
    "# Laurence Brown\n",
    "# SMU Mathematics\n",
    "# Math 3316\n",
    "# 11/2/2016\n",
    "#############################################################\n",
    "######\n",
    "# compiler & flags\n",
    "CXX = g++\n",
    "CXXFLAGS = -O -std=c++0x\n",
    "# makefile targets\n",
    "#newton_test.exe\t:\tnewton.cpp\ttest_newton.cpp\n",
    "\n",
    "\n",
    "all:\n",
    "\t$(CXX) $(CXXFLAGS) test_newton.cpp -o test_newton.exe\n",
    "\t\n",
    "\tchmod 755 *.exe\n",
    "\tchmod 755 *.txt\n",
    "\n",
    "clean :\n",
    "\trm -f *.exe *.txt\n",
    "####### End of Makefile #######\n"
   ]
  },
  {
   "cell_type": "markdown",
   "metadata": {},
   "source": [
    "## Newton Polynomials"
   ]
  },
  {
   "cell_type": "markdown",
   "metadata": {},
   "source": [
    "<br>\n",
    "Given n distinct data points, $(x_0,y_0),(x_1,y_1), ... , (x_n,y_n)$, the following is a form and method for obtaining and representing an interpolating polynomial.\n",
    "<br>\n",
    "<br>\n",
    "Polynomial in Newton form : \n",
    "<br>\n",
    "<br>\n",
    "$$p_n(x)= a_0 + a_1(x-x_0)+ a_2(x-x_0)(x-x_1) + ... + a_n(x-x_0)(x-x_1)...(x-x_{n-1})$$\n",
    "<br>\n",
    "Where $p_n(x_i) = y_i$.\n",
    "<br>\n",
    "Constructing an interpolating polynomial in Newton form has the advantage of easily adding extra data points to your model.\n",
    "<br>\n",
    "<br>\n",
    "$$p_{k+1}(x) = p_k(x) + a_{k+1}(x − x_0)(x − x_1)· · ·(x − x_k)$$\n",
    "<br>\n",
    "Because $p_0(x)$ is known ($p_0(x) = y_0 = a_0$), and the condition $p_n(x_n) = y_n$ must always be met, it possible to devise a recursive method for solving the coeffiencts $a_0, a_1, ... a_{n+1}$, the process of constructing the n+1 coeffiencts is the process of constructing the newton polynomial.\n",
    "<br>\n",
    "<br>\n",
    "The general construction of a newton polynomial follows the following steps:\n",
    "<br>\n",
    "<br>\n",
    "$$a_0 = y_0,$$\n",
    "$$p_0(x) = y_0$$\n",
    "<br>\n",
    "$$a_1 = \\frac {y_1 − p_0(x1)} {(x1 − x0)},$$\n",
    "$$p_1(x) = a_0 + a_1(x − x_0)$$\n",
    "<br>\n",
    "$$...$$\n",
    "<br>\n",
    "$$a_{n+1} = \\frac {y_{n+1} − p_n(x_{n+1})} {(x_{n+1} − x_0)(x_{n+1} − x_1)· · ·(x_{n+1} − x_n)},$$\n",
    "<br>\n",
    "$$p_{n+1}(x) = pn(x) + a_{n+1}(x − x_0)(x − x_1)· · ·(x − x_n)$$\n",
    "<br>\n",
    "<br>\n",
    "The goal of the code bellow is to construct the newton polynomial given a data set, and to compare the values produced by the newton polynomial, $p_4(x)$ with the actual function value, $f(x)$. The code will capture these values in addition to the error, $error = \\{ \\; |f(x_0) - p_4(x_0)|,\\; |f(x_1) - p_4(x_1)|, \\; ... , \\; |f(x_n) - p_4(x_n)| \\; \\} $. My expectation is that the error will be oscillatory, and increase the farther the input is from the set of xnodes from the data set."
   ]
  },
  {
   "cell_type": "markdown",
   "metadata": {},
   "source": [
    "### Implimentation"
   ]
  },
  {
   "cell_type": "markdown",
   "metadata": {},
   "source": [
    "The data sets y nodes are produced by the function\n",
    "$f(x) = 3.1x^4 + 2.3x^3 − 6.6x^2 + 8.7x + 7.9$\n",
    "and a set of x values $\\{−2, −1, 0, 1, 2\\}$. \n",
    "<br>\n",
    "$$y_i = f(x_i)$$\n",
    "<br>\n",
    "Where the function $f(x)$ and $p_4(x)$ are both evaulated 201 times  on the equally spaced x-values on the interval [−3, 3].\n",
    "<br>"
   ]
  },
  {
   "cell_type": "code",
   "execution_count": 3,
   "metadata": {
    "collapsed": false
   },
   "outputs": [
    {
     "ename": "IndentationError",
     "evalue": "unexpected indent (<ipython-input-3-b438c9817f1b>, line 4)",
     "output_type": "error",
     "traceback": [
      "\u001b[0;36m  File \u001b[0;32m\"<ipython-input-3-b438c9817f1b>\"\u001b[0;36m, line \u001b[0;32m4\u001b[0m\n\u001b[0;31m    test_newton.cpp\u001b[0m\n\u001b[0m    ^\u001b[0m\n\u001b[0;31mIndentationError\u001b[0m\u001b[0;31m:\u001b[0m unexpected indent\n"
     ]
    }
   ],
   "source": [
    "# %load test_newton.cpp\n",
    "/*\n",
    "\n",
    "\ttest_newton.cpp\n",
    "\tLaruence M. Brown\n",
    "  \tMath 3316\n",
    "   \t3 November 2016\n",
    "\n",
    "\t\t\t\t\t\t\t\t\tpolynomial interpolation\n",
    "\t\t\t\t\t\t\t\t\t\t  newton form\n",
    "\n",
    "*/\n",
    "\n",
    "#include <iostream>\n",
    "#include <vector>\n",
    "#include <math.h>\n",
    "\n",
    "using namespace std;\n",
    "\n",
    "/*\n",
    "\tfunction prototypes\n",
    "*/\n",
    "double \t\t\tf(double x);\n",
    "double \t\t\tNewton_nestedform(vector<double> a, vector<double> xnodes, double x);\n",
    "double \t\t\tNewton_basis(vector<double> xnodes, int n, double x);\n",
    "vector<double> \tNewton_coefficients(vector<double> xnodes, vector<double> ynodes);\n",
    "vector<double> \tgen_ynodes(vector<double> xnodes);\n",
    "\n",
    "vector<double> \tLinspace(double a, double b, int n);\n",
    "double \t\t\tsum_vector(vector<double> v);\n",
    "int \t\t\twrite(std::vector<double> v, const char *outfile);\n",
    "void \t\t\tprint_vector(vector<double> v);\n",
    "\n",
    "\n",
    "int main(){\n",
    "\n",
    "\t//data set\n",
    "\tvector<double> xnodes = {-2, -1, 0, 1 ,2};\t\t\t\t\t//given xs\n",
    "\tvector<double> ynodes = gen_ynodes(xnodes);\t\t\t\t\t//given ys\n",
    "\tvector<double> as = Newton_coefficients(xnodes, ynodes);\t//get coeffients\n",
    "\tvector<double> xs = Linspace(-3,3,201); \t\t\t\t\t//inputs to function\n",
    "\tvector<double> ps;\t\t\t\t\t\t\t\t\t\t\t//interpolated\n",
    "\tvector<double> fxs;\t\t\t\t\t\t\t\t\t\t\t//actual\n",
    "\tvector<double> err;\t\t\t\t\t\t\t\t\t\t\t//error\n",
    "\n",
    "\tfor (int i=0; i<xs.size(); i++){\n",
    "\n",
    "\t\t//compute f(xi) values\n",
    "\t\tfxs.push_back(f(xs[i]));\n",
    "\n",
    "\t\t//compute pn(xi) values\n",
    "\t\tps.push_back(Newton_nestedform(as,xnodes,xs[i]));\n",
    "\n",
    "\t\t//compute error values, |f(xi) - pn(xi)|\n",
    "\t\terr.push_back(fxs[i]-ps[i]);\n",
    "\t}\n",
    "\n",
    "\t//write to files\n",
    "\twrite(xs, \"xs.txt\");\t//inputs\n",
    "\twrite(fxs, \"fxs.txt\");\t//f(xi)\n",
    "\twrite(ps, \"ps.txt\");\t//pn(xi)\n",
    "\twrite(err, \"err.txt\");\t//|f(xi) - pn(xi)|\n",
    "\n",
    "\treturn 0;\n",
    "}\n",
    "\n",
    "//f(xi) = yi\n",
    "double f(double x){ \n",
    "\t//f(x) = 3.1x^4 + 2.3x^3 − 6.6x^2 + 8.7x + 7.9\n",
    "\treturn ((3.1) * pow(x,4)) + ((2.3) * pow(x,3)) - ((6.6) * pow(x,2)) + (8.7 *x) + 7.9;\n",
    "}\n",
    "\n",
    "//applies function to each element in vector, returns new vector\n",
    "vector<double> gen_ynodes(vector<double> xnodes){\n",
    "\t//gernerate y nodes: f(x) = 3.1x^4 + 2.3x^3 − 6.6x^2 + 8.7x + 7.9\n",
    "\tvector<double> ynodes;\n",
    "\tfor (int i=0; i<xnodes.size(); i++)\n",
    "\t\tynodes.push_back(f(xnodes[i]));\n",
    "\treturn ynodes;\n",
    "}\n",
    "\n",
    "double Newton_basis(vector<double> xnodes, int n, double x){\n",
    "\t//phi_n+1(x) = (xn - x0)(xn - x1) ... (xn - xn-1)\n",
    "    double phi= 1.0;\n",
    "    for(int i=0 ; i < n; i++)\n",
    "        phi*= (x-xnodes[i]);\n",
    "    return phi;\n",
    "}\n",
    "\n",
    "//calulates pn(x) given coefficient matrix and xnodes\n",
    "double Newton_nestedform(vector<double> a, vector<double> xnodes, double x){\n",
    "\t//p_n(x)= a_0 + a_1(x-x_0)+ a_2(x-x_0)(x-x_1) + ... + a_n(x-x_0)(x-x_1)...(x-x_{n-1})\n",
    "    double pn=0.0;\n",
    "    for(int i=0 ; i< a.size(); i++)\n",
    "        pn+=Newton_basis(xnodes,i, x)*a[i];\n",
    "    return pn;\n",
    "}\n",
    "\n",
    "//calculates a0, a1, ... , an+1 coefficents for newton polynomial given data set\n",
    "vector<double> Newton_coefficients(vector<double> xnodes, vector<double> ynodes){\n",
    "\t//a_{n+1} = \\frac {y_{n+1} − p_n(x_{n+1})} {(x_{n+1} − x_0)(x_{n+1} − x_1)· · ·(x_{n+1} − x_n)}\n",
    "    vector<double> as;\n",
    "    for(int i = 0; i< xnodes.size(); i++){\n",
    "        double numerator = ynodes[i] - Newton_nestedform(as,xnodes, xnodes[i]);\n",
    "        double denomiator = (Newton_basis(xnodes,i,xnodes[i]));\n",
    "        as.push_back((numerator)/denomiator);\n",
    "    }\n",
    "    return as;\n",
    "}\n",
    "\n",
    "/*\n",
    "\tadditional functions\n",
    "*/\n",
    "\n",
    "//create a new vector of linearly space data\n",
    "vector<double> Linspace(double a, double b, int n){\n",
    "\tif (n<2) cerr << \"Linspace::length must be > 1\\n\";\n",
    "\tvector<double> v(n);\n",
    "\t\n",
    "\tdouble h = (b-a)/(n-1);\n",
    "\tfor (int i=0; i<n; i++)\n",
    "\t \tv[i] = a + i*h;\n",
    "\n",
    "\treturn v;\n",
    "}\n",
    "\n",
    "//colapse vector to double, (sum entries)\n",
    "double sum_vector(vector<double> v){\n",
    "\tdouble  sum = 0;\n",
    "\tfor (int i=0; i<v.size(); i++)\n",
    "\t\tsum += v[i];\n",
    "\treturn sum;\n",
    "}\n",
    "\n",
    "//write a vector to a file\n",
    "int write(std::vector<double> v, const char *outfile) { \n",
    "\n",
    "  // open output file\n",
    "  FILE *fptr = NULL;\n",
    "  fptr = fopen(outfile, \"w\");\n",
    "  if (fptr == NULL) {\n",
    "    cerr << \"Write:: error, unable to open \" << outfile << \" for writing\\n\";\n",
    "    return 1;\n",
    "  }\n",
    "\n",
    "  // print data to file\n",
    "  for (size_t i=0; i<v.size(); i++) {\n",
    "      fprintf(fptr, \"  %.16g\", v[i]);\n",
    "  }\n",
    "\n",
    "  // close output file and return\n",
    "  fclose(fptr);\n",
    "  return 0;\n",
    "}\n",
    "\n",
    "//log vector\n",
    "void print_vector(vector<double> v){\n",
    "\tfor (int i=0; i<v.size(); i++)\n",
    "\t\tcout << v[i] << \" \";\n",
    "\tcout << endl;\n",
    "}\n"
   ]
  },
  {
   "cell_type": "code",
   "execution_count": 4,
   "metadata": {
    "collapsed": false
   },
   "outputs": [],
   "source": [
    "#import collected data\n",
    "fx = loadtxt('fxs.txt') #f(x) values\n",
    "px = loadtxt('ps.txt')  #p_n(x) values\n",
    "xs = loadtxt('xs.txt')  #inputs\n",
    "err = loadtxt('err.txt')#|f(x) - p_n(x)|"
   ]
  },
  {
   "cell_type": "code",
   "execution_count": 5,
   "metadata": {
    "collapsed": false
   },
   "outputs": [
    {
     "data": {
      "text/plain": [
       "<matplotlib.legend.Legend at 0x10cb5a5f8>"
      ]
     },
     "execution_count": 5,
     "metadata": {},
     "output_type": "execute_result"
    },
    {
     "data": {
      "image/png": "[encoded data removed]",
      "text/plain": [
       "<matplotlib.figure.Figure at 0x10a726518>"
      ]
     },
     "metadata": {},
     "output_type": "display_data"
    }
   ],
   "source": [
    "plot(xs,fx,xs,px,xs,err)\n",
    "xlabel('input')\n",
    "ylabel('approximation')\n",
    "title('Newton Polynomials of degree 5')\n",
    "legend(('$F(x)$', '$P_4(x)$', '$Error_{p_4}(x)$'))"
   ]
  },
  {
   "cell_type": "markdown",
   "metadata": {},
   "source": [
    "The approximation of $f(x)$ with $p_4(x)$ turned out to be extreemly accurate over the interval $[-3,3]$. As can be seen above the curves produced by $f(x)$ and $p_4(x)$ are nearly identicle, and this accuracy has been achieved with a data set of only five points."
   ]
  },
  {
   "cell_type": "code",
   "execution_count": 7,
   "metadata": {
    "collapsed": false
   },
   "outputs": [
    {
     "data": {
      "text/plain": [
       "<matplotlib.text.Text at 0x10d6850f0>"
      ]
     },
     "execution_count": 7,
     "metadata": {},
     "output_type": "execute_result"
    },
    {
     "data": {
      "image/png": "[encoded data removed]",
      "text/plain": [
       "<matplotlib.figure.Figure at 0x10400f278>"
      ]
     },
     "metadata": {},
     "output_type": "display_data"
    }
   ],
   "source": [
    "plot(xs,err, '-r')\n",
    "title('Error of Newton Polynomials, $|f(x) - p_4(x)|$')"
   ]
  },
  {
   "cell_type": "markdown",
   "metadata": {
    "collapsed": true
   },
   "source": [
    "As can be seen above the error, $|f(x_i) - p_4(x_i)|$ is highly oscillatory and it's value increases as it approaches the tails of the data set, $y_0$ and $y_n$. The error becomes zero every time an xnode is used as an input."
   ]
  },
  {
   "cell_type": "code",
   "execution_count": null,
   "metadata": {
    "collapsed": true
   },
   "outputs": [],
   "source": []
  }
 ],
 "metadata": {
  "anaconda-cloud": {},
  "kernelspec": {
   "display_name": "Python [Root]",
   "language": "python",
   "name": "Python [Root]"
  },
  "language_info": {
   "codemirror_mode": {
    "name": "ipython",
    "version": 3
   },
   "file_extension": ".py",
   "mimetype": "text/x-python",
   "name": "python",
   "nbconvert_exporter": "python",
   "pygments_lexer": "ipython3",
   "version": "3.5.2"
  }
 },
 "nbformat": 4,
 "nbformat_minor": 0
}
