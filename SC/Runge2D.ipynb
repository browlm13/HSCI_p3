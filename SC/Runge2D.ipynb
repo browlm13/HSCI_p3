{
 "cells": [
  {
   "cell_type": "code",
   "execution_count": 45,
   "metadata": {
    "collapsed": false
   },
   "outputs": [
    {
     "name": "stdout",
     "output_type": "stream",
     "text": [
      "Populating the interactive namespace from numpy and matplotlib\n"
     ]
    }
   ],
   "source": [
    "%pylab inline"
   ]
  },
  {
   "cell_type": "markdown",
   "metadata": {},
   "source": [
    "# Project 3 - Interpolation and interpolating polynomials\n",
    "## Part 3 - The Runge phenomenon\n",
    "\n",
    "Laurence M. Brown\n",
    "HSCI - 3316"
   ]
  },
  {
   "cell_type": "code",
   "execution_count": 46,
   "metadata": {
    "collapsed": false
   },
   "outputs": [
    {
     "ename": "SyntaxError",
     "evalue": "invalid syntax (<ipython-input-46-00f87c7c193b>, line 13)",
     "output_type": "error",
     "traceback": [
      "\u001b[0;36m  File \u001b[0;32m\"<ipython-input-46-00f87c7c193b>\"\u001b[0;36m, line \u001b[0;32m13\u001b[0m\n\u001b[0;31m    CXX = g++\u001b[0m\n\u001b[0m             ^\u001b[0m\n\u001b[0;31mSyntaxError\u001b[0m\u001b[0;31m:\u001b[0m invalid syntax\n"
     ]
    }
   ],
   "source": [
    "# %load Makefile\n",
    "# %load Makefile\n",
    "#############################################################\n",
    "######\n",
    "# Makefile for project 3\n",
    "# Laurence Brown\n",
    "# SMU Mathematics\n",
    "# Math 3316\n",
    "# 11/2/2016\n",
    "#############################################################\n",
    "######\n",
    "# compiler & flags\n",
    "CXX = g++\n",
    "CXXFLAGS = -O -std=c++0x -Wl,-undefined,dynamic_lookup\n",
    "# makefile targets\n",
    "#newton_test.exe\t:\tnewton.cpp\ttest_newton.cpp\n",
    "\n",
    "\n",
    "all:\n",
    "\t$(CXX) $(CXXFLAGS) test_newton.cpp -o test_newton.exe\n",
    "\t$(CXX) $(CXXFLAGS) Lagrange.cpp matrix.cpp test_Lagrange.cpp -o test_Langrange.exe\n",
    "\t$(CXX) $(CXXFLAGS) Lagrange.cpp matrix.cpp test_Lagrange2D.cpp -o test_Langrange2D.exe\n",
    "\t$(CXX) $(CXXFLAGS) runge_uni_cheb.cpp Lagrange.cpp matrix.cpp -o runge_uni_cheb.exe\n",
    "\t\n",
    "\tchmod 755 *.exe\n",
    "\tchmod 755 *.txt\n",
    "\n",
    "clean :\n",
    "\trm -f *.exe *.txt\n",
    "####### End of Makefile #######\n"
   ]
  },
  {
   "cell_type": "markdown",
   "metadata": {},
   "source": [
    "# The Runge Phenomenon"
   ]
  },
  {
   "cell_type": "markdown",
   "metadata": {},
   "source": [
    "There is a special case, when polynomials interpolate specfic functions, that the error of the interpolating polynomial, $error = |f(x) - p_n(x)|$, does not decrease with additional data points, in fact for certain functions the maximum error will increase with the degree of the interpolating polynomial.\n",
    "\n",
    "The Runge phenomenon can occur in the form of oscillating edges when using polynomial\n",
    "interpolation with high order polynomials.\n",
    "\n",
    "One way to avoid this problem is to change the interpolation nodes, or the data set. The Runge oscillation can be minimized by using nodes that are clusterd together as they near the ends of the interval. An example of this is Chebyshev nodes, where error of the Runge\n",
    "function diminishes with additional data points.\n",
    "\n",
    "In this report we will observe the effect on error when increasing the degree of the interpolating polynomial, and when using Chebyshev nodes as apposed to uniformly distributed nodes."
   ]
  },
  {
   "cell_type": "code",
   "execution_count": null,
   "metadata": {
    "collapsed": true
   },
   "outputs": [],
   "source": [
    "# %load runge_uni_cheb.cpp\n",
    "/*\n",
    "\trunge_uni_cheb.cpp\n",
    "\tLaruence M. Brown\n",
    "  \tMath 3316\n",
    "   \t3 November 2016\n",
    "\n",
    "\t\t\t\t\t\t\t\t\tRunge Phenominon \n",
    "\t\t\t\t\t\twith uniformly and Chebyshev spaced nodes\n",
    "*/\n",
    "\n",
    "#include <string>\n",
    "#include <vector>\n",
    "#include <iostream>\n",
    "#include <math.h>\n",
    "\n",
    "#include \"Matrix.hpp\"\n",
    "#include \"Lagrange.hpp\"\n",
    "\n",
    "using namespace std;\n",
    "\n",
    "//settings\n",
    "#define START_GRID -4\n",
    "#define END_GRID 4\n",
    "#define A_LEN 201\n",
    "#define B_LEN 101\n",
    "\n",
    "//function prototypes\n",
    "double \t\tf(double x, double y);\n",
    "Matrix \t\tChebyshev_nodes(int L, int m);\n",
    "void \t\tinterpolate2D(int m, int n, Matrix a, Matrix b, string output_fname, bool Chebyshev);\n",
    "\n",
    "int main(){\n",
    "\n",
    "\t/*\n",
    "\t\tCreate an array of 201 evenly-spaced evaluation points, a, over the interval [−4, 4].\n",
    "\t\tOutput this to disk as the file avals.txt.\n",
    "\n",
    "\t\tCreate an array of 101 evenly-spaced evaluation points, b, over the interval [−4, 4].\n",
    "\t\tOutput this to disk as the file bvals.txt.\n",
    "\t*/\n",
    "\tMatrix as = Linspace(START_GRID, END_GRID, 1, A_LEN);\n",
    "\tas.Write(\"avals.txt\");\n",
    "\n",
    "\tMatrix bs = Linspace(START_GRID, END_GRID, 1, B_LEN);\n",
    "\tbs.Write(\"bvals.txt\");\n",
    "\n",
    "\t/*\n",
    "\t\tFill a matrix runge ∈ 201×101 with the correct values of f(ai, bj), and output this to disk\n",
    "\t\tto a file named Runge.txt.\n",
    "\t*/\n",
    "\tMatrix Runge(as.Cols(), bs.Cols());\n",
    "\tfor( int i = 0 ; i < as.Cols(); i++){\n",
    "\t\tfor ( int j=0 ; j < bs.Cols(); j++)\n",
    "\t\t\tRunge[j][i] = f(as[i][0], bs[j][0]);\n",
    "\t}\n",
    "\tRunge.Write(\"Runge.txt\");\n",
    "\n",
    "\tinterpolate2D(6,6, as, bs, \"p6_uni.txt\", false);\n",
    "\tinterpolate2D(24,24, as, bs,\"p24_uni.txt\", false);\n",
    "\tinterpolate2D(6,6, as, bs,\"p6_Cheb.txt\", true);\n",
    "\tinterpolate2D(24, 24, as, bs, \"p24_Cheb.txt\", true);\n",
    "\n",
    "\treturn 0;\n",
    "}\n",
    "\n",
    "//Runge Function\n",
    "double f(double x, double y){\n",
    "\treturn 1 / (1 + x*x + y*y);\n",
    "}\n",
    "\n",
    "Matrix Chebyshev_nodes(int m){\n",
    "\t/*\n",
    "\t\tThe (m + 1) Chebyshev nodes over an interval [−L, L] may be computed\n",
    "\t\tvia the formula\n",
    "\n",
    "\t\txi = Lcos ((2i + 1)π)/(2m + 2 )), i = 0 ... m\n",
    "\t*/\n",
    "\tMatrix x(1,m+1);\n",
    "\tfor(int i =0 ;i <m+1; i++){\n",
    "\t\tx[i][0]= END_GRID * cos( (2*(i+1)*M_PI)/(2*m+2) );\n",
    "\t}\n",
    "\treturn x;\n",
    "}\n",
    "\n",
    "void interpolate2D(int m, int n, Matrix a, Matrix b, string output_fname, bool Chebyshev){\n",
    "\t/*\n",
    "\t\tCreate a set of (m + 1) evenly-spaced nodes, x, over the interval [−4, 4].\n",
    "\t\tCreate a set of (n + 1) evenly-spaced nodes, x, over the interval [−4, 4].\n",
    "\t*/\n",
    "\tMatrix x = Linspace(START_GRID, END_GRID, 1, m+1);\n",
    "\tMatrix y = Linspace(START_GRID, END_GRID, 1, n+1);\n",
    "\n",
    "\tif (Chebyshev){\n",
    "\t\tx = Chebyshev_nodes(m);\n",
    "\t\ty = Chebyshev_nodes(n);\n",
    "\t}\n",
    "\n",
    "\t/*\n",
    "\t\tCreate a matrix, f ∈ (m+1)×(n+1) that contains the function values f(xi,yj).\n",
    "\t*/\n",
    "\tMatrix z(m+1,n+1);\n",
    "\tfor (int i=0; i<m+1; i++){\n",
    "\t\tfor (int j=0; j<n+1; j++)\n",
    "\t\t\tz[i][j] = f(x[i][0], y[j][0]);\n",
    "\t}\n",
    "\n",
    "\t/*\n",
    "\t\tUse your Lagrange2D() function to evaluate the polynomial interpolant p(ai,bj) at\n",
    "\t\tthe 201 × 101 evaluation points, storing the result in a matrix p6 ∈ 201×101.\n",
    "\n",
    "\t\tOutput p6 to disk to a file named p6 uni.txt using the Matrix::Write routine.\n",
    "\t*/\n",
    "\tMatrix pn(a.Cols(), b.Cols());\n",
    "\tfor (int i=0; i<a.Cols(); i++){\n",
    "\t\tfor (int j=0; j<b.Cols(); j++){\n",
    "\t\t\tpn(i,j) = Lagrange2D(x, y, z, a[i][0], b[j][0]);\n",
    "\t\t}\n",
    "\t}\n",
    "\tpn.Write(output_fname.c_str());\n",
    "}\n"
   ]
  },
  {
   "cell_type": "markdown",
   "metadata": {},
   "source": [
    "The above code takes a function, $f(x,y) = \\frac {1} {1 + x^2 + y^2}$, and creates four distinct interpolating polynomials. Two with uniformly distributed nodes over the interval $[-4,4]$ of degree 6 and 24 $(u_6(x), u_{24}(x))$. And Two with Chebyshev nodes nonuniformly distributed over the interval $[-4,4]$. The x value of each Chebyshev node is determined by the following formula: \n",
    "<br>\n",
    "$$ x_i =  L_i \\cos\\Bigg(\\frac {(2i + 1)\\pi} {2m + 2}\\Bigg), i = 0,1,...,m.$$\n",
    "<br>\n",
    "These interpolating polynomials are also of degreen 6 and 24 $(c_6(x), c_24(x))$."
   ]
  },
  {
   "cell_type": "code",
   "execution_count": null,
   "metadata": {
    "collapsed": true
   },
   "outputs": [],
   "source": [
    "#load files\n",
    "Runge = loadtxt('Runge.txt')\n",
    "a = loadtxt('avals.txt')\n",
    "b = loadtxt('bvals.txt')\n",
    "p6_uni = loadtxt('p6_uni.txt')\n",
    "p24_uni = loadtxt('p24_uni.txt')\n",
    "p6_Cheb = loadtxt('p6_Cheb.txt')\n",
    "p24_Cheb = loadtxt('p24_Cheb.txt')"
   ]
  },
  {
   "cell_type": "markdown",
   "metadata": {},
   "source": [
    "## The Runge function"
   ]
  },
  {
   "cell_type": "code",
   "execution_count": null,
   "metadata": {
    "collapsed": false
   },
   "outputs": [],
   "source": [
    "from mpl_toolkits.mplot3d.axes3d import Axes3D\n",
    "fig = figure()\n",
    "ax = fig.add_subplot(111, projection='3d')\n",
    "X, Y = meshgrid(b, a)\n",
    "title('$f(x)$')\n",
    "surf = ax.plot_surface(X, Y, Runge, rstride=1, cstride=1, linewidth=0, cmap=cm.Greens)"
   ]
  },
  {
   "cell_type": "markdown",
   "metadata": {},
   "source": [
    "The above graph is the desired value of the runge function $f(x,y) = \\frac {1} {1 + x^2 + y^2}$. This function will be used to calculate the error of the interpolating polynomials graphed bellow. "
   ]
  },
  {
   "cell_type": "markdown",
   "metadata": {},
   "source": [
    "# Interpolating Polynomials with uniformly spaced nodes"
   ]
  },
  {
   "cell_type": "markdown",
   "metadata": {},
   "source": [
    "## Polynomial of degree 6, with uniformly spaced nodes"
   ]
  },
  {
   "cell_type": "code",
   "execution_count": null,
   "metadata": {
    "collapsed": false
   },
   "outputs": [],
   "source": [
    "fig = figure()\n",
    "ax = fig.add_subplot(111, projection='3d')\n",
    "title('$u_6$ with uniformly spaced nodes')\n",
    "surf = ax.plot_surface(X, Y, p6_uni, rstride=1, cstride=1, linewidth=0, cmap=cm.jet)"
   ]
  },
  {
   "cell_type": "code",
   "execution_count": null,
   "metadata": {
    "collapsed": false
   },
   "outputs": [],
   "source": [
    "#calculate error\n",
    "error_6_uni = abs(Runge - p6_uni)\n",
    "\n",
    "fig = figure()\n",
    "ax = fig.add_subplot(111, projection='3d')\n",
    "title('Error of $u_6(x)$ with uniformly spaced nodes')\n",
    "surf = ax.plot_surface(X, Y, error_6_uni, rstride=1, cstride=1, linewidth=0, cmap=cm.Reds)"
   ]
  },
  {
   "cell_type": "markdown",
   "metadata": {},
   "source": [
    "The graph produced by $u_6(x)$ looks disparate of the function it is modeling. It's error shows a sea of oscillations that become more turbulent as the ends of the intervals are approached. A low order polynomial with uniformly distributed nodes does not appear to be a good approcimation of the funtion $f(x,y) = \\frac {1} {1 + x^2 + y^2}$."
   ]
  },
  {
   "cell_type": "markdown",
   "metadata": {},
   "source": [
    "## Polynomial of degree 24, with uniformly spaced nodes"
   ]
  },
  {
   "cell_type": "code",
   "execution_count": null,
   "metadata": {
    "collapsed": false
   },
   "outputs": [],
   "source": [
    "fig = figure()\n",
    "ax = fig.add_subplot(111, projection='3d')\n",
    "title('$u_{24}$ with uniformly spaced nodes')\n",
    "surf = ax.plot_surface(X, Y, p24_uni, rstride=1, cstride=1, linewidth=0, cmap=cm.jet)"
   ]
  },
  {
   "cell_type": "code",
   "execution_count": null,
   "metadata": {
    "collapsed": false
   },
   "outputs": [],
   "source": [
    "#calculate error\n",
    "error_24_uni = abs(Runge - p24_uni)\n",
    "\n",
    "fig = figure()\n",
    "ax = fig.add_subplot(111, projection='3d')\n",
    "title('Error of $u_{24}(x)$ with uniformly spaced nodes')\n",
    "surf = ax.plot_surface(X, Y, error_24_uni, rstride=1, cstride=1, linewidth=0, cmap=cm.Reds)"
   ]
  },
  {
   "cell_type": "markdown",
   "metadata": {},
   "source": [
    "Moving on to a higher order polynomial we find intresting results, and the worst error of all the interpolating polynomials. The graph produced by $u_12(x)$ appears to have little to no error in the majority of the xy plane. However, as the ends of the intervals are approached the error becomes unbelivable high. A high order polynomial with uniformly distributed nodes does not appear to be a good approcimation of the funtion $f(x,y) = \\frac {1} {1 + x^2 + y^2}$, at least at the edges of its intervals."
   ]
  },
  {
   "cell_type": "markdown",
   "metadata": {},
   "source": [
    "# Interpolating Polynomials with Chebyshev nodes"
   ]
  },
  {
   "cell_type": "markdown",
   "metadata": {},
   "source": [
    "## Polynomial of degree 6, with Chebyshev nodes"
   ]
  },
  {
   "cell_type": "code",
   "execution_count": null,
   "metadata": {
    "collapsed": false
   },
   "outputs": [],
   "source": [
    "fig = figure()\n",
    "ax = fig.add_subplot(111, projection='3d')\n",
    "surf = ax.plot_surface(X, Y, p6_Cheb, rstride=1, cstride=1, linewidth=0, cmap=cm.jet)\n",
    "title('$c_6$ with Chebyshev nodes')"
   ]
  },
  {
   "cell_type": "code",
   "execution_count": null,
   "metadata": {
    "collapsed": false
   },
   "outputs": [],
   "source": [
    "#calculate error\n",
    "error_6_cheb = abs(Runge - p6_Cheb)\n",
    "\n",
    "fig = figure()\n",
    "ax = fig.add_subplot(111, projection='3d')\n",
    "title('Error of $c_6(x)$ with chebyshev nodes')\n",
    "surf = ax.plot_surface(X, Y, error_6_cheb, rstride=1, cstride=1, linewidth=0, cmap=cm.Reds)"
   ]
  },
  {
   "cell_type": "markdown",
   "metadata": {},
   "source": [
    "Taking a look at the graph of a low order polynomial with Chebyshev nodes. we find intresting results. The graph produced by $c_6(x)$ is the first graph to resemble $f(x,y) = \\frac {1} {1 + x^2 + y^2}$. However, error remians. Intrestingly it is not at the corners of the graph that the maximum error peaks (as with the errors produced by the unifromly distributed polynomials), but at the center of the xy plane. The low order polynomial with Chebyshev nodes is the best approximation of the funtion $f(x,y) = \\frac {1} {1 + x^2 + y^2}$, thus far."
   ]
  },
  {
   "cell_type": "markdown",
   "metadata": {},
   "source": [
    "## Polynomial of degree 24, with Chebyshev nodes"
   ]
  },
  {
   "cell_type": "code",
   "execution_count": null,
   "metadata": {
    "collapsed": false
   },
   "outputs": [],
   "source": [
    "fig = figure()\n",
    "ax = fig.add_subplot(111, projection='3d')\n",
    "title('$c_{24}$ with Chebyshev nodes')\n",
    "surf = ax.plot_surface(X, Y, p24_Cheb, cmap=cm.jet)"
   ]
  },
  {
   "cell_type": "code",
   "execution_count": null,
   "metadata": {
    "collapsed": false
   },
   "outputs": [],
   "source": [
    "#calculate error\n",
    "error_24_cheb = abs(Runge - p24_Cheb)\n",
    "\n",
    "fig = figure()\n",
    "ax = fig.add_subplot(111, projection='3d')\n",
    "title('Error of $c_{24}(x)$ with chebyshev nodes')\n",
    "surf = ax.plot_surface(X, Y, error_24_cheb, rstride=1, cstride=1, linewidth=0, cmap=cm.Reds)"
   ]
  },
  {
   "cell_type": "markdown",
   "metadata": {
    "collapsed": true
   },
   "source": [
    "The graph produced by the high order polynomial with Chebyshev nodes, $c_{24}(x)$ is the best approximation of the function $f(x,y) = \\frac {1} {1 + x^2 + y^2}$. The graph produced by $c_{24}(x)$ looks like the one produced by $f(x)$, it is only when observing the error that discrepcenies are noticed. It seems that with Chebyshev nodes, as perdicted, error of the Runge function decreases with additional data points. This is unlike the uniformly distributed notes wich display the oposite behavior."
   ]
  },
  {
   "cell_type": "code",
   "execution_count": null,
   "metadata": {
    "collapsed": true
   },
   "outputs": [],
   "source": []
  }
 ],
 "metadata": {
  "anaconda-cloud": {},
  "kernelspec": {
   "display_name": "Python [Root]",
   "language": "python",
   "name": "Python [Root]"
  },
  "language_info": {
   "codemirror_mode": {
    "name": "ipython",
    "version": 3
   },
   "file_extension": ".py",
   "mimetype": "text/x-python",
   "name": "python",
   "nbconvert_exporter": "python",
   "pygments_lexer": "ipython3",
   "version": "3.5.2"
  }
 },
 "nbformat": 4,
 "nbformat_minor": 0
}
